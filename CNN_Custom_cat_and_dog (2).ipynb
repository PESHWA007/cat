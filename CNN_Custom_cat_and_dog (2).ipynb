{
 "cells": [
  {
   "cell_type": "code",
   "execution_count": 1,
   "id": "90a2c9f1",
   "metadata": {},
   "outputs": [],
   "source": [
    "import numpy as np\n",
    "import pandas as pd \n",
    "import seaborn as sns\n",
    "import warnings\n",
    "warnings.filterwarnings('ignore')\n",
    "import matplotlib.pyplot as plt"
   ]
  },
  {
   "cell_type": "code",
   "execution_count": 2,
   "id": "f7854065",
   "metadata": {},
   "outputs": [],
   "source": [
    "import matplotlib.image as mpimg\n",
    "from tensorflow import keras\n",
    "from tensorflow.keras import layers\n",
    "from keras.models import load_model\n",
    "import tensorflow as tf"
   ]
  },
  {
   "cell_type": "code",
   "execution_count": 3,
   "id": "6e07aa35",
   "metadata": {},
   "outputs": [],
   "source": [
    "from keras.preprocessing.image import ImageDataGenerator"
   ]
  },
  {
   "cell_type": "code",
   "execution_count": 4,
   "id": "407d6c35",
   "metadata": {},
   "outputs": [],
   "source": [
    "train_dir = r\"D:\\cats_dogs\\dataset\\training_set\"\n",
    "test_dir = r\"D:\\cats_dogs\\dataset\\test_set\""
   ]
  },
  {
   "cell_type": "code",
   "execution_count": 5,
   "id": "d8c633fb",
   "metadata": {},
   "outputs": [],
   "source": [
    "train_datagen = ImageDataGenerator(\n",
    "        rotation_range=40,\n",
    "        width_shift_range=0.2,\n",
    "        height_shift_range=0.2,\n",
    "        rescale=1./255,\n",
    "        shear_range=0.2,\n",
    "        zoom_range=0.2,\n",
    "        horizontal_flip=True,\n",
    "        fill_mode='nearest')\n",
    "\n",
    "test_datagen = ImageDataGenerator(\n",
    "        rotation_range=40,\n",
    "        width_shift_range=0.2,\n",
    "        height_shift_range=0.2,\n",
    "        rescale=1./255,\n",
    "        shear_range=0.2,\n",
    "        zoom_range=0.2,\n",
    "        horizontal_flip=True,\n",
    "        fill_mode='nearest')"
   ]
  },
  {
   "cell_type": "code",
   "execution_count": 13,
   "id": "62387dec",
   "metadata": {},
   "outputs": [],
   "source": [
    "target_size=(124, 124)\n",
    "batch_size = 10\n",
    "no_epochs = 15\n",
    "steps_per_epochs = no_epochs // batch_size"
   ]
  },
  {
   "cell_type": "code",
   "execution_count": 14,
   "id": "11e0f223",
   "metadata": {},
   "outputs": [
    {
     "name": "stdout",
     "output_type": "stream",
     "text": [
      "Found 8000 images belonging to 2 classes.\n",
      "Found 2000 images belonging to 2 classes.\n"
     ]
    }
   ],
   "source": [
    "train_generator = train_datagen.flow_from_directory(train_dir,target_size=(124, 124),batch_size=batch_size,class_mode='binary')\n",
    "test_generator = test_datagen.flow_from_directory(test_dir,target_size=(124, 124),batch_size=batch_size,class_mode='binary')"
   ]
  },
  {
   "cell_type": "code",
   "execution_count": 15,
   "id": "8141752f",
   "metadata": {},
   "outputs": [
    {
     "name": "stdout",
     "output_type": "stream",
     "text": [
      "Model: \"sequential_1\"\n",
      "_________________________________________________________________\n",
      " Layer (type)                Output Shape              Param #   \n",
      "=================================================================\n",
      " conv2d_2 (Conv2D)           (None, 122, 122, 32)      896       \n",
      "                                                                 \n",
      " max_pooling2d_2 (MaxPooling  (None, 61, 61, 32)       0         \n",
      " 2D)                                                             \n",
      "                                                                 \n",
      " dropout_2 (Dropout)         (None, 61, 61, 32)        0         \n",
      "                                                                 \n",
      " conv2d_3 (Conv2D)           (None, 59, 59, 64)        18496     \n",
      "                                                                 \n",
      " max_pooling2d_3 (MaxPooling  (None, 29, 29, 64)       0         \n",
      " 2D)                                                             \n",
      "                                                                 \n",
      " flatten_1 (Flatten)         (None, 53824)             0         \n",
      "                                                                 \n",
      " dropout_3 (Dropout)         (None, 53824)             0         \n",
      "                                                                 \n",
      " dense_1 (Dense)             (None, 1)                 53825     \n",
      "                                                                 \n",
      "=================================================================\n",
      "Total params: 73,217\n",
      "Trainable params: 73,217\n",
      "Non-trainable params: 0\n",
      "_________________________________________________________________\n"
     ]
    }
   ],
   "source": [
    "model = keras.Sequential(\n",
    "    [\n",
    "        keras.Input(shape=(124,124,3)),\n",
    "        layers.Conv2D(32, kernel_size=(3, 3), activation=\"relu\"),\n",
    "        layers.MaxPooling2D(pool_size=(2, 2)),\n",
    "        layers.Dropout(0.5),\n",
    "        layers.Conv2D(64, kernel_size=(3, 3), activation=\"relu\"),\n",
    "        layers.MaxPooling2D(pool_size=(2, 2)),\n",
    "        layers.Flatten(),\n",
    "        layers.Dropout(0.5),\n",
    "        layers.Dense(1, activation=\"sigmoid\"),\n",
    "    ]\n",
    ")\n",
    "\n",
    "model.summary()"
   ]
  },
  {
   "cell_type": "code",
   "execution_count": 16,
   "id": "5e292436",
   "metadata": {},
   "outputs": [],
   "source": [
    "model.compile(loss='binary_crossentropy',optimizer='adam',metrics=['accuracy'])"
   ]
  },
  {
   "cell_type": "code",
   "execution_count": 17,
   "id": "2257d927",
   "metadata": {},
   "outputs": [
    {
     "name": "stdout",
     "output_type": "stream",
     "text": [
      "Epoch 1/15\n",
      "1/1 [==============================] - 2s 2s/step - loss: 0.7342 - accuracy: 0.4000 - val_loss: 0.9786 - val_accuracy: 0.5667\n",
      "Epoch 2/15\n",
      "1/1 [==============================] - 1s 1s/step - loss: 4.7342 - accuracy: 0.2000 - val_loss: 0.6797 - val_accuracy: 0.5667\n",
      "Epoch 3/15\n",
      "1/1 [==============================] - 1s 1s/step - loss: 0.5903 - accuracy: 0.6000 - val_loss: 0.8039 - val_accuracy: 0.4333\n",
      "Epoch 4/15\n",
      "1/1 [==============================] - 1s 1s/step - loss: 1.7794 - accuracy: 0.3000 - val_loss: 0.7897 - val_accuracy: 0.4667\n",
      "Epoch 5/15\n",
      "1/1 [==============================] - 1s 1s/step - loss: 1.4662 - accuracy: 0.4000 - val_loss: 0.7388 - val_accuracy: 0.4333\n",
      "Epoch 6/15\n",
      "1/1 [==============================] - 1s 1s/step - loss: 1.5718 - accuracy: 0.2000 - val_loss: 0.7113 - val_accuracy: 0.3667\n",
      "Epoch 7/15\n",
      "1/1 [==============================] - 1s 1s/step - loss: 0.7070 - accuracy: 0.5000 - val_loss: 0.6739 - val_accuracy: 0.5667\n",
      "Epoch 8/15\n",
      "1/1 [==============================] - 1s 999ms/step - loss: 1.0938 - accuracy: 0.4000 - val_loss: 0.7024 - val_accuracy: 0.5333\n",
      "Epoch 9/15\n",
      "1/1 [==============================] - 1s 1s/step - loss: 1.3275 - accuracy: 0.3000 - val_loss: 0.6738 - val_accuracy: 0.6000\n",
      "Epoch 10/15\n",
      "1/1 [==============================] - 1s 1s/step - loss: 1.8579 - accuracy: 0.1000 - val_loss: 0.7140 - val_accuracy: 0.4667\n",
      "Epoch 11/15\n",
      "1/1 [==============================] - 1s 982ms/step - loss: 1.6220 - accuracy: 0.1000 - val_loss: 0.7154 - val_accuracy: 0.3667\n",
      "Epoch 12/15\n",
      "1/1 [==============================] - 1s 1s/step - loss: 0.9652 - accuracy: 0.3000 - val_loss: 0.6964 - val_accuracy: 0.4333\n",
      "Epoch 13/15\n",
      "1/1 [==============================] - 1s 976ms/step - loss: 0.7440 - accuracy: 0.4000 - val_loss: 0.6936 - val_accuracy: 0.4000\n",
      "Epoch 14/15\n",
      "1/1 [==============================] - 1s 996ms/step - loss: 0.6921 - accuracy: 0.4000 - val_loss: 0.6947 - val_accuracy: 0.4667\n",
      "Epoch 15/15\n",
      "1/1 [==============================] - 1s 1s/step - loss: 0.7045 - accuracy: 0.4000 - val_loss: 0.6947 - val_accuracy: 0.4333\n"
     ]
    },
    {
     "data": {
      "text/plain": [
       "<keras.callbacks.History at 0x28e06004190>"
      ]
     },
     "execution_count": 17,
     "metadata": {},
     "output_type": "execute_result"
    }
   ],
   "source": [
    "model.fit_generator(train_generator,steps_per_epoch=steps_per_epochs,epochs=no_epochs,validation_data=test_generator,\n",
    "        validation_steps=30//batch_size)"
   ]
  },
  {
   "cell_type": "code",
   "execution_count": null,
   "id": "c5b179f9",
   "metadata": {},
   "outputs": [],
   "source": []
  },
  {
   "cell_type": "code",
   "execution_count": null,
   "id": "e264ba58",
   "metadata": {},
   "outputs": [],
   "source": []
  }
 ],
 "metadata": {
  "kernelspec": {
   "display_name": "Python 3 (ipykernel)",
   "language": "python",
   "name": "python3"
  },
  "language_info": {
   "codemirror_mode": {
    "name": "ipython",
    "version": 3
   },
   "file_extension": ".py",
   "mimetype": "text/x-python",
   "name": "python",
   "nbconvert_exporter": "python",
   "pygments_lexer": "ipython3",
   "version": "3.9.7"
  }
 },
 "nbformat": 4,
 "nbformat_minor": 5
}
